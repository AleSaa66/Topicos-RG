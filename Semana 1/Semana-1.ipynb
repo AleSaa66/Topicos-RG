{
 "cells": [
  {
   "cell_type": "markdown",
   "metadata": {},
   "source": [
    "### Semana 1: Métrica de Schwarzschild en coordenadas isotrópicas"
   ]
  },
  {
   "cell_type": "code",
   "execution_count": 1,
   "metadata": {},
   "outputs": [],
   "source": [
    "import sympy as sp\n",
    "import einsteinpy.symbolic as es"
   ]
  },
  {
   "cell_type": "markdown",
   "metadata": {},
   "source": [
    "La métrica de Schwarzschild exterior en coordenadas isotrópicas cuasi-esférica es\n",
    "$$\n",
    "ds^2 = \\frac{\\left(1 - \\frac{m}{2\\rho} \\right)^2}{\\left( 1 + \\frac{m}{2\\rho}\\right)^2} c^2 dt^2 - \\left( 1 + \\frac{m}{2\\rho} \\right)^4 \\left[d\\rho^2 + \\rho^2 (d\\theta^2 + \\sin^2\\theta d\\varphi^2)\\right], \\quad \\rho \\neq \\frac{m}{2}.\n",
    "$$\n",
    "\n",
    "En coordenadas cuasi-cartesianas,\n",
    "$$\n",
    "ds^2 = \\frac{\\left(1 - \\frac{m}{2\\rho} \\right)^2}{\\left( 1 + \\frac{m}{2\\rho}\\right)^2} c^2 dt^2 - \\left( 1 + \\frac{m}{2\\rho} \\right)^4 \\left[dx^2 + dy^2 + dz^2\\right], \\quad \\rho = \\sqrt{x^2 + y^2 + z^2}.\n",
    "$$"
   ]
  },
  {
   "cell_type": "code",
   "execution_count": 2,
   "metadata": {},
   "outputs": [],
   "source": [
    "#Definición de coordenadas y símbolos extras:\n",
    "coord1 = sp.symbols('ct rho theta phi')\n",
    "coord2 = sp.symbols('ct x y z')\n",
    "m = sp.symbols('m')"
   ]
  },
  {
   "cell_type": "code",
   "execution_count": 3,
   "metadata": {},
   "outputs": [],
   "source": [
    "#Definición de la métrica de Schwarzschild:\n",
    "metric1 = [[0 for i in range(4)] for i in range(4)]\n",
    "metric1[0][0] = (1 - m/(2*coord1[1]))**2/(1 + m/(2*coord1[1]))**2\n",
    "metric1[1][1] = -(1 + m/(2*coord1[1]))**4\n",
    "metric1[2][2] = metric1[1][1]*coord1[1]**2\n",
    "metric1[3][3] = metric1[1][1]*coord1[1]**2*sp.sin(coord1[2])**2\n",
    "\n",
    "metric2 = [[0 for i in range(4)] for i in range(4)]\n",
    "d = sp.sqrt(coord2[1]**2 + coord2[2]**2 + coord2[3]**2)\n",
    "metric2[0][0] = (1 - m/(2*d))**2/(1 + m/(2*d))**2\n",
    "metric2[1][1] = -(1 + m/(2*d))**4\n",
    "metric2[2][2] = metric2[1][1]\n",
    "metric2[3][3] = metric2[1][1]"
   ]
  },
  {
   "cell_type": "code",
   "execution_count": 4,
   "metadata": {},
   "outputs": [],
   "source": [
    "#Creando el objeto métrico:\n",
    "m_obj1 = es.MetricTensor(metric1, coord1)\n",
    "m_obj2 = es.MetricTensor(metric2, coord2)                         "
   ]
  },
  {
   "cell_type": "code",
   "execution_count": 5,
   "metadata": {},
   "outputs": [
    {
     "data": {
      "text/latex": [
       "$\\displaystyle \\left[\\begin{matrix}\\frac{\\left(- \\frac{m}{2 \\rho} + 1\\right)^{2}}{\\left(\\frac{m}{2 \\rho} + 1\\right)^{2}} & 0 & 0 & 0\\\\0 & - \\left(\\frac{m}{2 \\rho} + 1\\right)^{4} & 0 & 0\\\\0 & 0 & - \\rho^{2} \\left(\\frac{m}{2 \\rho} + 1\\right)^{4} & 0\\\\0 & 0 & 0 & - \\rho^{2} \\left(\\frac{m}{2 \\rho} + 1\\right)^{4} \\sin^{2}{\\left(\\theta \\right)}\\end{matrix}\\right]$"
      ],
      "text/plain": [
       "[[(-m/(2*rho) + 1)**2/(m/(2*rho) + 1)**2, 0, 0, 0], [0, -(m/(2*rho) + 1)**4, 0, 0], [0, 0, -rho**2*(m/(2*rho) + 1)**4, 0], [0, 0, 0, -rho**2*(m/(2*rho) + 1)**4*sin(theta)**2]]"
      ]
     },
     "execution_count": 5,
     "metadata": {},
     "output_type": "execute_result"
    }
   ],
   "source": [
    "m_obj1.tensor()"
   ]
  },
  {
   "cell_type": "code",
   "execution_count": 6,
   "metadata": {},
   "outputs": [
    {
     "data": {
      "text/latex": [
       "$\\displaystyle \\left[\\begin{matrix}\\frac{\\left(- \\frac{m}{2 \\sqrt{x^{2} + y^{2} + z^{2}}} + 1\\right)^{2}}{\\left(\\frac{m}{2 \\sqrt{x^{2} + y^{2} + z^{2}}} + 1\\right)^{2}} & 0 & 0 & 0\\\\0 & - \\left(\\frac{m}{2 \\sqrt{x^{2} + y^{2} + z^{2}}} + 1\\right)^{4} & 0 & 0\\\\0 & 0 & - \\left(\\frac{m}{2 \\sqrt{x^{2} + y^{2} + z^{2}}} + 1\\right)^{4} & 0\\\\0 & 0 & 0 & - \\left(\\frac{m}{2 \\sqrt{x^{2} + y^{2} + z^{2}}} + 1\\right)^{4}\\end{matrix}\\right]$"
      ],
      "text/plain": [
       "[[(-m/(2*sqrt(x**2 + y**2 + z**2)) + 1)**2/(m/(2*sqrt(x**2 + y**2 + z**2)) + 1)**2, 0, 0, 0], [0, -(m/(2*sqrt(x**2 + y**2 + z**2)) + 1)**4, 0, 0], [0, 0, -(m/(2*sqrt(x**2 + y**2 + z**2)) + 1)**4, 0], [0, 0, 0, -(m/(2*sqrt(x**2 + y**2 + z**2)) + 1)**4]]"
      ]
     },
     "execution_count": 6,
     "metadata": {},
     "output_type": "execute_result"
    }
   ],
   "source": [
    "m_obj2.tensor()  "
   ]
  },
  {
   "cell_type": "code",
   "execution_count": 7,
   "metadata": {},
   "outputs": [
    {
     "data": {
      "text/latex": [
       "$\\displaystyle \\left[\\begin{matrix}0 & 0 & 0 & 0\\\\0 & 0 & 0 & 0\\\\0 & 0 & 0 & 0\\\\0 & 0 & 0 & 0\\end{matrix}\\right]$"
      ],
      "text/plain": [
       "[[0, 0, 0, 0], [0, 0, 0, 0], [0, 0, 0, 0], [0, 0, 0, 0]]"
      ]
     },
     "execution_count": 7,
     "metadata": {},
     "output_type": "execute_result"
    }
   ],
   "source": [
    "Ric1 = es.RicciTensor.from_metric(m_obj1)\n",
    "Ric1.tensor()"
   ]
  },
  {
   "cell_type": "code",
   "execution_count": 8,
   "metadata": {},
   "outputs": [
    {
     "data": {
      "text/latex": [
       "$\\displaystyle 0$"
      ],
      "text/plain": [
       "0"
      ]
     },
     "execution_count": 8,
     "metadata": {},
     "output_type": "execute_result"
    }
   ],
   "source": [
    "R1 = es.RicciScalar.from_riccitensor(Ric1)\n",
    "R1.expr"
   ]
  },
  {
   "cell_type": "code",
   "execution_count": 9,
   "metadata": {},
   "outputs": [],
   "source": [
    "Ric2 = es.RicciTensor.from_metric(m_obj2)\n",
    "Ric2.tensor()"
   ]
  },
  {
   "cell_type": "code",
   "execution_count": null,
   "metadata": {},
   "outputs": [],
   "source": [
    "R2 = es.RicciScalar.from_riccitensor(Ric2)\n",
    "R2.expr"
   ]
  },
  {
   "cell_type": "markdown",
   "metadata": {},
   "source": [
    "Por lo tanto, estas métricas son soluciones de las ecs. de Einstein en el vacío."
   ]
  },
  {
   "cell_type": "markdown",
   "metadata": {},
   "source": []
  }
 ],
 "metadata": {
  "kernelspec": {
   "display_name": "Python 3",
   "language": "python",
   "name": "python3"
  },
  "language_info": {
   "codemirror_mode": {
    "name": "ipython",
    "version": 3
   },
   "file_extension": ".py",
   "mimetype": "text/x-python",
   "name": "python",
   "nbconvert_exporter": "python",
   "pygments_lexer": "ipython3",
   "version": "3.11.4"
  },
  "orig_nbformat": 4
 },
 "nbformat": 4,
 "nbformat_minor": 2
}

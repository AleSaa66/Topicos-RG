{
 "cells": [
  {
   "cell_type": "markdown",
   "metadata": {},
   "source": [
    "### Semana 2: Geodésicas tipo tiempo en la geometría de Schwarzschild"
   ]
  },
  {
   "cell_type": "code",
   "execution_count": 1,
   "metadata": {},
   "outputs": [],
   "source": [
    "import sympy as sp\n",
    "import einsteinpy.symbolic as es"
   ]
  },
  {
   "cell_type": "markdown",
   "metadata": {},
   "source": [
    "La métrica de Schwarzschild es\n",
    "$$\n",
    "ds^2 = \\left( 1 - \\frac{2m}{r} \\right) d(c t)^2 - \\frac{dr^2}{\\left( 1 - \\frac{2m}{r} \\right)} - r^2 [d\\theta^2 + \\sin^2\\theta d\\varphi^2].\n",
    "$$"
   ]
  },
  {
   "cell_type": "code",
   "execution_count": 2,
   "metadata": {},
   "outputs": [],
   "source": [
    "#Definición de coordenadas y símbolos extras:\n",
    "coor = sp.symbols('ct r theta phi')\n",
    "m = sp.symbols('m')"
   ]
  },
  {
   "cell_type": "code",
   "execution_count": 3,
   "metadata": {},
   "outputs": [
    {
     "data": {
      "text/latex": [
       "$\\displaystyle \\left[\\begin{matrix}- \\frac{2 m}{r} + 1 & 0 & 0 & 0\\\\0 & - \\frac{1}{- \\frac{2 m}{r} + 1} & 0 & 0\\\\0 & 0 & - r^{2} & 0\\\\0 & 0 & 0 & - r^{2} \\sin^{2}{\\left(\\theta \\right)}\\end{matrix}\\right]$"
      ],
      "text/plain": [
       "[[-2*m/r + 1, 0, 0, 0], [0, -1/(-2*m/r + 1), 0, 0], [0, 0, -r**2, 0], [0, 0, 0, -r**2*sin(theta)**2]]"
      ]
     },
     "execution_count": 3,
     "metadata": {},
     "output_type": "execute_result"
    }
   ],
   "source": [
    "#Definición de la métrica de Schwarzschild:\n",
    "metric = [[0 for i in range(4)] for i in range(4)]\n",
    "metric[0][0] = 1 - 2*m/coor[1]\n",
    "metric[1][1] = -(1 - 2*m/coor[1])**(-1)\n",
    "metric[2][2] = -coor[1]**2\n",
    "metric[3][3] = -coor[1]**2*sp.sin(coor[2])**2\n",
    "\n",
    "#Creando el objeto métrico:\n",
    "m_obj = es.MetricTensor(metric, coor)\n",
    "m_obj.tensor()                          #Visualizar la métrica."
   ]
  },
  {
   "cell_type": "code",
   "execution_count": 4,
   "metadata": {},
   "outputs": [
    {
     "data": {
      "text/latex": [
       "$\\displaystyle \\left[\\begin{matrix}\\left[\\begin{matrix}0 & \\frac{m}{r^{2} \\left(- \\frac{2 m}{r} + 1\\right)} & 0 & 0\\\\\\frac{m}{r^{2} \\left(- \\frac{2 m}{r} + 1\\right)} & 0 & 0 & 0\\\\0 & 0 & 0 & 0\\\\0 & 0 & 0 & 0\\end{matrix}\\right] & \\left[\\begin{matrix}- \\frac{2 m \\left(\\frac{m}{r} - \\frac{1}{2}\\right)}{r^{2}} & 0 & 0 & 0\\\\0 & \\frac{2 m \\left(\\frac{m}{r} - \\frac{1}{2}\\right)}{r^{2} \\left(- \\frac{2 m}{r} + 1\\right)^{2}} & 0 & 0\\\\0 & 0 & 2 r \\left(\\frac{m}{r} - \\frac{1}{2}\\right) & 0\\\\0 & 0 & 0 & 2 r \\left(\\frac{m}{r} - \\frac{1}{2}\\right) \\sin^{2}{\\left(\\theta \\right)}\\end{matrix}\\right] & \\left[\\begin{matrix}0 & 0 & 0 & 0\\\\0 & 0 & \\frac{1}{r} & 0\\\\0 & \\frac{1}{r} & 0 & 0\\\\0 & 0 & 0 & - \\sin{\\left(\\theta \\right)} \\cos{\\left(\\theta \\right)}\\end{matrix}\\right] & \\left[\\begin{matrix}0 & 0 & 0 & 0\\\\0 & 0 & 0 & \\frac{1}{r}\\\\0 & 0 & 0 & \\frac{\\cos{\\left(\\theta \\right)}}{\\sin{\\left(\\theta \\right)}}\\\\0 & \\frac{1}{r} & \\frac{\\cos{\\left(\\theta \\right)}}{\\sin{\\left(\\theta \\right)}} & 0\\end{matrix}\\right]\\end{matrix}\\right]$"
      ],
      "text/plain": [
       "[[[0, m/(r**2*(-2*m/r + 1)), 0, 0], [m/(r**2*(-2*m/r + 1)), 0, 0, 0], [0, 0, 0, 0], [0, 0, 0, 0]], [[-2*m*(m/r - 1/2)/r**2, 0, 0, 0], [0, 2*m*(m/r - 1/2)/(r**2*(-2*m/r + 1)**2), 0, 0], [0, 0, 2*r*(m/r - 1/2), 0], [0, 0, 0, 2*r*(m/r - 1/2)*sin(theta)**2]], [[0, 0, 0, 0], [0, 0, 1/r, 0], [0, 1/r, 0, 0], [0, 0, 0, -sin(theta)*cos(theta)]], [[0, 0, 0, 0], [0, 0, 0, 1/r], [0, 0, 0, cos(theta)/sin(theta)], [0, 1/r, cos(theta)/sin(theta), 0]]]"
      ]
     },
     "execution_count": 4,
     "metadata": {},
     "output_type": "execute_result"
    }
   ],
   "source": [
    "ch = es.ChristoffelSymbols.from_metric(m_obj)\n",
    "ch.tensor()"
   ]
  },
  {
   "cell_type": "markdown",
   "metadata": {},
   "source": [
    "Observamos que las únicas componentes no nulas de los símbolos de  Christoffel son:\n",
    "$$\n",
    "\\Gamma^0_{01} = \\Gamma^0_{10} = \\frac{m}{r^2\\left( 1 - \\frac{2m}{r}\\right)}, \n",
    "$$\n",
    "$$\n",
    "\\Gamma^1_{00} = - \\frac{2m}{r^2} \\left( \\frac{m}{r} - \\frac{1}{2}  \\right),\n",
    "$$ \n",
    "$$\n",
    "\\Gamma^1_{11} = \\frac{2m\\left( \\frac{m}{r} - \\frac{1}{2} \\right)}{r^2 \\left( 1 - \\frac{2m}{r}\\right)^2},\n",
    "$$\n",
    "$$\n",
    "\\Gamma^1_{22} = 2r \\left( \\frac{m}{r} - \\frac{1}{2} \\right),\n",
    "$$\n",
    "$$\n",
    "\\Gamma^1_{33} = 2r\\left(\\frac{m}{r} - \\frac{1}{2} \\right) \\sin^2(\\theta),\n",
    "$$\n",
    "$$\n",
    "\\Gamma^2_{21} = \\Gamma^2_{12} = \\frac{1}{r},\n",
    "$$\n",
    "$$\n",
    "\\Gamma^2_{33} = -\\sin(\\theta)\\cos(\\theta),\n",
    "$$\n",
    "$$\n",
    "\\Gamma^3_{31} = \\Gamma^3_{13} = \\frac{1}{r},\n",
    "$$\n",
    "$$\n",
    "\\Gamma^3_{32} = \\Gamma^3_{23} = \\cot(\\theta).\n",
    "$$"
   ]
  },
  {
   "cell_type": "markdown",
   "metadata": {},
   "source": []
  }
 ],
 "metadata": {
  "kernelspec": {
   "display_name": "Python 3",
   "language": "python",
   "name": "python3"
  },
  "language_info": {
   "codemirror_mode": {
    "name": "ipython",
    "version": 3
   },
   "file_extension": ".py",
   "mimetype": "text/x-python",
   "name": "python",
   "nbconvert_exporter": "python",
   "pygments_lexer": "ipython3",
   "version": "3.11.4"
  },
  "orig_nbformat": 4
 },
 "nbformat": 4,
 "nbformat_minor": 2
}

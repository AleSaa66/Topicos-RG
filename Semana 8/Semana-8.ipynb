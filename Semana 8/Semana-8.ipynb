{
 "cells": [
  {
   "cell_type": "markdown",
   "metadata": {},
   "source": [
    "### Semana 8: Tiempo de Vuelo (Efecto Shapiro)"
   ]
  },
  {
   "cell_type": "code",
   "execution_count": 1,
   "metadata": {},
   "outputs": [],
   "source": [
    "import sympy as sp\n",
    "import numpy as np\n",
    "import matplotlib.pyplot as plt\n",
    "\n",
    "plt.style.use('bmh')"
   ]
  },
  {
   "cell_type": "markdown",
   "metadata": {},
   "source": [
    "Calculemos la integral \n",
    "$$\n",
    "\\int \\frac{dr}{I(r)} = \\int \\frac{1}{\\sqrt{1 - \\frac{r_0^2}{r^2}}} \\left[1 + \\frac{mr_0}{r(r + r_0)} + \\frac{2m}{r}\\right] \\,dr. \n",
    "$$"
   ]
  },
  {
   "cell_type": "code",
   "execution_count": 2,
   "metadata": {},
   "outputs": [],
   "source": [
    "#Símbolos:\n",
    "r,r_0,m = sp.symbols('r,r_0,m', positive = True)"
   ]
  },
  {
   "cell_type": "code",
   "execution_count": 3,
   "metadata": {},
   "outputs": [
    {
     "data": {
      "text/latex": [
       "$\\displaystyle \\frac{1}{\\sqrt{1 - \\frac{r_{0}^{2}}{r^{2}}}}$"
      ],
      "text/plain": [
       "1/sqrt(1 - r_0**2/r**2)"
      ]
     },
     "metadata": {},
     "output_type": "display_data"
    },
    {
     "data": {
      "text/latex": [
       "$\\displaystyle \\frac{m r_{0}}{r \\sqrt{1 - \\frac{r_{0}^{2}}{r^{2}}} \\left(r + r_{0}\\right)}$"
      ],
      "text/plain": [
       "m*r_0/(r*sqrt(1 - r_0**2/r**2)*(r + r_0))"
      ]
     },
     "metadata": {},
     "output_type": "display_data"
    },
    {
     "data": {
      "text/latex": [
       "$\\displaystyle \\frac{2 m}{r \\sqrt{1 - \\frac{r_{0}^{2}}{r^{2}}}}$"
      ],
      "text/plain": [
       "2*m/(r*sqrt(1 - r_0**2/r**2))"
      ]
     },
     "metadata": {},
     "output_type": "display_data"
    }
   ],
   "source": [
    "#Integrandos:\n",
    "f_1 = 1/sp.sqrt(1 - r_0**2/r**2)\n",
    "f_2 = (1/sp.sqrt(1 - r_0**2/r**2))*(m*r_0/(r*(r+r_0)))\n",
    "f_3 = 2*m/(r*sp.sqrt(1 - r_0**2/r**2))\n",
    "\n",
    "display(f_1)\n",
    "display(f_2)\n",
    "display(f_3)"
   ]
  },
  {
   "cell_type": "code",
   "execution_count": 5,
   "metadata": {},
   "outputs": [
    {
     "data": {
      "text/latex": [
       "$\\displaystyle \\begin{cases} \\sqrt{r^{2} - r_{0}^{2}} & \\text{for}\\: \\frac{r^{2}}{r_{0}^{2}} > 1 \\\\i \\sqrt{- r^{2} + r_{0}^{2}} & \\text{otherwise} \\end{cases}$"
      ],
      "text/plain": [
       "Piecewise((sqrt(r**2 - r_0**2), r**2/r_0**2 > 1), (I*sqrt(-r**2 + r_0**2), True))"
      ]
     },
     "metadata": {},
     "output_type": "display_data"
    }
   ],
   "source": [
    "#Primera integral:\n",
    "int_1 = sp.integrate(f_1,r)\n",
    "\n",
    "display(int_1)"
   ]
  },
  {
   "cell_type": "markdown",
   "metadata": {},
   "source": [
    "Como $r > r_0$, \n",
    "$$\n",
    "\\int \\frac{dr}{\\sqrt{1 - \\frac{r_0^2}{r^2}}} = \\sqrt{r^2 - r_0^2}.\n",
    "$$"
   ]
  },
  {
   "cell_type": "code",
   "execution_count": 6,
   "metadata": {},
   "outputs": [
    {
     "data": {
      "text/latex": [
       "$\\displaystyle m r_{0} \\int \\frac{1}{r \\sqrt{r - r_{0}} \\sqrt{r + r_{0}} + r_{0} \\sqrt{r - r_{0}} \\sqrt{r + r_{0}}}\\, dr$"
      ],
      "text/plain": [
       "m*r_0*Integral(1/(r*sqrt(r - r_0)*sqrt(r + r_0) + r_0*sqrt(r - r_0)*sqrt(r + r_0)), r)"
      ]
     },
     "metadata": {},
     "output_type": "display_data"
    }
   ],
   "source": [
    "#Segunda integral:\n",
    "int_2 = sp.integrate(f_2,r)\n",
    "\n",
    "display(int_2)"
   ]
  },
  {
   "cell_type": "markdown",
   "metadata": {},
   "source": [
    "Vemos que sympy no puede realizar la integral, por lo tanto debemos reescribir la hasta un punto que sea resolvible en sympy. Para ello, notemos que\n",
    "$$\n",
    "\\int \\frac{1}{\\sqrt{1 - \\frac{r_0^2}{r^2}}} \\frac{m r_0}{r(r + r_0)} dr = m r_0 \\int \\frac{1}{\\sqrt{r^2 - r_0^2}} \\frac{1}{r + r_0} dr. \n",
    "$$\n",
    "\n",
    "Haciendo la sustitución trigonométrica\n",
    "$$\n",
    "r = r_0 \\sec(\\theta) \\Rightarrow dr = r_0 \\sec(\\theta) \\tan(\\theta) d\\theta,\n",
    "$$\n",
    "con $\\theta \\in ]0,\\pi/2[$, obtenemos\n",
    "$$\n",
    "\\int \\frac{1}{\\sqrt{1 - \\frac{r_0^2}{r^2}}} \\frac{m r_0}{r(r + r_0)} dr = m r_0 \\int \\frac{1}{\\sqrt{r_0^2\\sec^2(\\theta) - 1}} \\frac{r_0 \\sec(\\theta)\\tan(\\theta)}{r_0 \\sec(\\theta) + r_0} d\\theta.\n",
    "$$\n",
    "\n",
    "Usando la indentidad $\\tan^2(\\theta) + 1 = \\sec^2(\\theta)$:\n",
    "\\begin{aligned}\n",
    " m r_0 \\int \\frac{1}{\\sqrt{r_0^2\\sec^2(\\theta) - 1}} \\frac{r_0 \\sec(\\theta)\\tan(\\theta)}{r_0 \\sec(\\theta) + r_0} d\\theta &= m \\int \\frac{\\sec(\\theta) \\tan(\\theta)}{\\tan(\\theta)(\\sec(\\theta) + 1)} d\\theta \\\\\n",
    " &= m \\int \\frac{\\sec(\\theta)}{\\sec(\\theta) + 1} d\\theta \\\\\n",
    " &= m \\int \\frac{1}{1 + \\cos(\\theta)} d\\theta. \n",
    "\\end{aligned}\n",
    "\n",
    "Intentemos integrar en sympy esta última integral.\n"
   ]
  },
  {
   "cell_type": "code",
   "execution_count": 15,
   "metadata": {},
   "outputs": [
    {
     "data": {
      "text/latex": [
       "$\\displaystyle \\tan{\\left(\\frac{r}{2} \\right)}$"
      ],
      "text/plain": [
       "tan(r/2)"
      ]
     },
     "metadata": {},
     "output_type": "display_data"
    },
    {
     "data": {
      "text/latex": [
       "$\\displaystyle \\tan{\\left(\\frac{r}{2} \\right)}$"
      ],
      "text/plain": [
       "tan(r/2)"
      ]
     },
     "execution_count": 15,
     "metadata": {},
     "output_type": "execute_result"
    }
   ],
   "source": [
    "#Nuevo intento para la segunda integral:\n",
    "int_21 = sp.integrate(1/(1 + sp.cos(r)),r)\n",
    "\n",
    "display(int_21)"
   ]
  },
  {
   "cell_type": "markdown",
   "metadata": {},
   "source": [
    "Entonces,\n",
    "$$\n",
    "m \\int \\frac{1}{1 + \\cos(\\theta)} d\\theta = m \\tan\\left(\\frac{\\theta}{2}\\right) + C.\n",
    "$$\n",
    "\n",
    "Calculemos\n",
    "\\begin{aligned}\n",
    "\\tan^2\\left( \\frac{\\theta}{2}\\right) &= \\frac{\\sin^2\\left( \\frac{\\theta}{2}\\right)}{\\cos^2\\left( \\frac{\\theta}{2}\\right)} \\\\\n",
    "&= \\frac{\\frac{1}{2} - \\frac{1}{2} \\cos(\\theta)}{\\frac{1}{2} + \\frac{1}{2} \\cos(\\theta)} \\\\\n",
    "&= \\frac{1 - \\cos(\\theta)}{1 + \\cos(\\theta)} \\cdot \\frac{1 + \\cos(\\theta)}{1 + \\cos(\\theta)} \\\\\n",
    "&= \\frac{1 - \\cos^2(\\theta)}{(1 + \\cos(\\theta))^2} \\\\\n",
    "&= \\frac{\\sin^2(\\theta)}{(1 + \\cos(\\theta))^2}.\n",
    "\\end{aligned}\n",
    "\n",
    "Sacando raíz cuadrada:\n",
    "$$\n",
    "\\tan\\left( \\frac{\\theta}{2}\\right) = \\frac{\\sin(\\theta)}{1 + \\cos(\\theta)}.\n",
    "$$\n",
    "\n",
    "Como $\\theta \\in ]0,\\pi/2[$, podemos considerar que \n",
    "$$\n",
    "\\sec(\\theta) = \\frac{r}{r_0} = \\frac{\\text{Hipotenusa}}{\\text{Cateto adyacente}}.\n",
    "$$\n",
    "\n",
    "Así,\n",
    "$$\n",
    "\\sin(\\theta) = \\frac{\\sqrt{r^2 - r_0^2}}{r}, \\quad \\cos(\\theta) = \\frac{r_0}{r}.\n",
    "$$\n",
    "\n",
    "Finalmente,\n",
    "\\begin{aligned}\n",
    "\\int \\frac{1}{\\sqrt{1 - \\frac{r_0^2}{r^2}}} \\frac{m r_0}{r(r + r_0)} dr &= m \\frac{\\frac{\\sqrt{r^2 - r_0^2}}{r}}{1 +\\frac{r_0}{r} } + C \\\\\n",
    "&= m \\frac{\\sqrt{r^2 - r_0^2}}{r + r_0} + C \\\\\n",
    "&= m \\frac{\\sqrt{r - r_0}\\sqrt{r + r_0}}{r + r_0} + C \\\\\n",
    "&= m \\sqrt{\\frac{r - r_0}{r + r_0}} + C.\n",
    "\\end{aligned}\n"
   ]
  },
  {
   "cell_type": "code",
   "execution_count": 9,
   "metadata": {},
   "outputs": [
    {
     "data": {
      "text/latex": [
       "$\\displaystyle 2 m \\left(\\begin{cases} \\operatorname{acosh}{\\left(\\frac{r}{r_{0}} \\right)} & \\text{for}\\: \\frac{r^{2}}{r_{0}^{2}} > 1 \\\\- i \\operatorname{asin}{\\left(\\frac{r}{r_{0}} \\right)} & \\text{otherwise} \\end{cases}\\right)$"
      ],
      "text/plain": [
       "2*m*Piecewise((acosh(r/r_0), r**2/r_0**2 > 1), (-I*asin(r/r_0), True))"
      ]
     },
     "metadata": {},
     "output_type": "display_data"
    }
   ],
   "source": [
    "#Tercera integral:\n",
    "int_3 = sp.integrate(f_3,r)\n",
    "\n",
    "display(int_3)"
   ]
  },
  {
   "cell_type": "markdown",
   "metadata": {},
   "source": [
    "Como $r > r_0$,\n",
    "$$\n",
    "\\int \\frac{2m}{r\\sqrt{1 - \\frac{r_0^2}{r^2}}} dr = 2m \\operatorname{acosh}\\left( \\frac{r}{r_0}\\right) + C.\n",
    "$$\n",
    "\n",
    "Pero, \n",
    "$$\n",
    "\\operatorname{acosh}(x) = \\ln\\left(x + \\sqrt{x^2-1}\\right), \\quad x \\geq 1.\n",
    "$$\n",
    "\n",
    "Por tanto,\n",
    "$$\n",
    "\\int \\frac{2m}{r\\sqrt{1 - \\frac{r_0^2}{r^2}}} dr = 2m \\ln\\left( \\frac{r}{r_0} + \\sqrt{\\frac{r^2}{r_0^2} - 1\n",
    "}\\right) + C = 2 m \\ln\\left(\\frac{r + \\sqrt{r^2 - r_0^2}}{r_0}\\right) + C.\n",
    "$$\n",
    "\n",
    "Usando las propiedades del logaritmo:\n",
    "$$\n",
    "\\int \\frac{2m}{r\\sqrt{1 - \\frac{r_0^2}{r^2}}} dr = 2 m \\ln\\left(r + \\sqrt{r^2 - r_0^2}\\right) + D,\n",
    "$$\n",
    "donde $D = C - 2m \\ln(r_0)$.\n"
   ]
  },
  {
   "cell_type": "markdown",
   "metadata": {},
   "source": [
    "Combinando los tres resultados, concluimos que \n",
    "\\begin{aligned}\n",
    "\\int \\frac{dr}{I(r)} &= \\int \\frac{1}{\\sqrt{1 - \\frac{r_0^2}{r^2}}} \\left[1 + \\frac{mr_0}{r(r + r_0)} + \\frac{2m}{r}\\right] \\,dr \\\\\n",
    "&= \\sqrt{r^2 - r_0^2} + m \\sqrt{\\frac{r - r_0}{r + r_0}} + 2 m \\ln\\left(r + \\sqrt{r^2 - r_0^2}\\right) + C.\n",
    "\\end{aligned}"
   ]
  }
 ],
 "metadata": {
  "kernelspec": {
   "display_name": "base",
   "language": "python",
   "name": "python3"
  },
  "language_info": {
   "codemirror_mode": {
    "name": "ipython",
    "version": 3
   },
   "file_extension": ".py",
   "mimetype": "text/x-python",
   "name": "python",
   "nbconvert_exporter": "python",
   "pygments_lexer": "ipython3",
   "version": "3.11.4"
  }
 },
 "nbformat": 4,
 "nbformat_minor": 2
}
